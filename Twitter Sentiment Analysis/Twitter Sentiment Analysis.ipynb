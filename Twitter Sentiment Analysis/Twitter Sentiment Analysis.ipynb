{
 "cells": [
  {
   "cell_type": "markdown",
   "metadata": {},
   "source": [
    "<h1 style=\"color:#ff5343; text-align:center\">Twitter Sentiment Analysis Project</h1>"
   ]
  },
  {
   "cell_type": "markdown",
   "metadata": {},
   "source": [
    "<h4 style = \"text-align:right\"> BY:- </h4>"
   ]
  },
  {
   "cell_type": "code",
   "execution_count": 115,
   "metadata": {
    "collapsed": true
   },
   "outputs": [],
   "source": [
    "#---Importing the standard libraries---\n",
    "\n",
    "import numpy as np\n",
    "import pandas as pd\n",
    "import tweepy\n",
    "import matplotlib.pyplot as plt\n",
    "import pymongo\n",
    "import ipywidgets as wgt\n",
    "from IPython.display import display\n",
    "from sklearn.feature_extraction.text import CountVectorizer\n",
    "import re\n",
    "from nltk.corpus import stopwords\n",
    "from nltk.stem.porter import PorterStemmer\n",
    "from datetime import datetime\n",
    "from textblob import TextBlob\n",
    "import seaborn as sns\n",
    "\n",
    "%matplotlib inline\n",
    "plt.rcParams['figure.figsize'] = 8,6\n",
    "plt.style.use('ggplot')"
   ]
  },
  {
   "cell_type": "code",
   "execution_count": 2,
   "metadata": {
    "collapsed": true
   },
   "outputs": [],
   "source": [
    "#---Connecting to the Twitter API---\n",
    "\n",
    "consumer_key = 'SAx9SLlWriEcqwQrohVvFW7IK'\n",
    "consumer_secret = 'yj3EhFkmfXzpDSReGvHC5IPPhpadLt3cFMX0DXOzE7KBqqjoCm'\n",
    "\n",
    "access_token = '905373434124746752-u8ADxykXGh4nAieqd4XCtT5NYN0ls6W'\n",
    "access_token_secret = 'd1kVcM3t6pZdOKoNxsGbmhE5J6zQm4DAuW5a8XOUBbmmD'\n",
    "\n",
    "auth = tweepy.OAuthHandler(consumer_key, consumer_secret)\n",
    "auth.set_access_token(access_token, access_token_secret)\n",
    "\n",
    "api = tweepy.API(auth)"
   ]
  },
  {
   "cell_type": "code",
   "execution_count": 5,
   "metadata": {},
   "outputs": [
    {
     "data": {
      "text/plain": [
       "0"
      ]
     },
     "execution_count": 5,
     "metadata": {},
     "output_type": "execute_result"
    }
   ],
   "source": [
    "#---Connecting to a MongoDB client---\n",
    "\n",
    "col = pymongo.MongoClient()['Tweets']['Streaming']\n",
    "col.count()"
   ]
  },
  {
   "cell_type": "code",
   "execution_count": 6,
   "metadata": {
    "collapsed": true
   },
   "outputs": [],
   "source": [
    "#---Connecting to a Streaming Class---\n",
    "\n",
    "class MyStreamListener(tweepy.StreamListener):\n",
    "    \n",
    "    counter = 0\n",
    "    \n",
    "    def __init__(self, max_tweets=1000, *args, **kwargs):\n",
    "        self.max_tweets = max_tweets\n",
    "        self.counter = 0\n",
    "        super().__init__(*args, **kwargs)\n",
    "    \n",
    "    def on_connect(self):\n",
    "        self.counter = 0\n",
    "        self.start_time = datetime.now()\n",
    "    \n",
    "    def on_status(self, status):\n",
    "        # Increment counter\n",
    "        self.counter += 1\n",
    "        \n",
    "        # Store tweet to MongoDB\n",
    "        col.insert_one(status._json)\n",
    "        \n",
    "        \n",
    "        if self.counter % 1 == 0:\n",
    "            value = int(100.00 * self.counter / self.max_tweets)\n",
    "            mining_time = datetime.now() - self.start_time\n",
    "            progress_bar.value = value\n",
    "            html_value = \"\"\"<span class=\"label label-primary\">Tweets/Sec: %.1f</span>\"\"\" % (self.counter / max([1,mining_time.seconds]))\n",
    "            html_value += \"\"\" <span class=\"label label-success\">Progress: %.1f%%</span>\"\"\" % (self.counter / self.max_tweets * 100.0)\n",
    "            html_value += \"\"\" <span class=\"label label-info\">ETA: %.1f Sec</span>\"\"\" % ((self.max_tweets - self.counter) / (self.counter / max([1,mining_time.seconds])))\n",
    "            wgt_status.value = html_value\n",
    "            #print(\"%s/%s\" % (self.counter, self.max_tweets))\n",
    "            if self.counter >= self.max_tweets:\n",
    "                myStream.disconnect()\n",
    "                print(\"Finished\")\n",
    "                print(\"Total Mining Time: %s\" % (mining_time))\n",
    "                print(\"Tweets/Sec: %.1f\" % (self.max_tweets / mining_time.seconds))\n",
    "                progress_bar.value = 0\n",
    "                \n",
    "    \n",
    "myStreamListener = MyStreamListener(max_tweets=100)\n",
    "myStream = tweepy.Stream(auth = api.auth, listener=myStreamListener)"
   ]
  },
  {
   "cell_type": "code",
   "execution_count": 7,
   "metadata": {},
   "outputs": [
    {
     "data": {
      "application/vnd.jupyter.widget-view+json": {
       "model_id": "bc8c64bff42847f9a866352bb5ad03dc"
      }
     },
     "metadata": {},
     "output_type": "display_data"
    },
    {
     "data": {
      "application/vnd.jupyter.widget-view+json": {
       "model_id": "15e933d140de4855913c3fc4df662e46"
      }
     },
     "metadata": {},
     "output_type": "display_data"
    },
    {
     "name": "stdout",
     "output_type": "stream",
     "text": [
      "Finished\n",
      "Total Mining Time: 0:00:58.953125\n",
      "Tweets/Sec: 1.7\n",
      "Tweets collected: 100\n",
      "Total tweets in collection: 100\n"
     ]
    }
   ],
   "source": [
    "#---Connect to Streaming API---\n",
    "\n",
    "keywords = [\"#Trump\"]\n",
    "# Visualize a progress bar to track progress\n",
    "progress_bar = wgt.IntProgress(value=0)\n",
    "display(progress_bar)\n",
    "wgt_status = wgt.HTML(value=\"\"\"<span class=\"label label-primary\">Tweets/Sec: 0.0</span>\"\"\")\n",
    "display(wgt_status)\n",
    "\n",
    "# Start a filter with an error counter of 20\n",
    "for error_counter in range(20):\n",
    "    try:\n",
    "        myStream.filter(track=keywords)\n",
    "        print(\"Tweets collected: %s\" % myStream.listener.counter)\n",
    "        print(\"Total tweets in collection: %s\" % col.count())\n",
    "        break\n",
    "    except:\n",
    "        print(\"ERROR# %s\" % (error_counter + 1))"
   ]
  },
  {
   "cell_type": "code",
   "execution_count": 80,
   "metadata": {
    "scrolled": true
   },
   "outputs": [
    {
     "data": {
      "text/html": [
       "<div>\n",
       "<style>\n",
       "    .dataframe thead tr:only-child th {\n",
       "        text-align: right;\n",
       "    }\n",
       "\n",
       "    .dataframe thead th {\n",
       "        text-align: left;\n",
       "    }\n",
       "\n",
       "    .dataframe tbody tr th {\n",
       "        vertical-align: top;\n",
       "    }\n",
       "</style>\n",
       "<table border=\"1\" class=\"dataframe\">\n",
       "  <thead>\n",
       "    <tr style=\"text-align: right;\">\n",
       "      <th></th>\n",
       "      <th>Created_at</th>\n",
       "      <th>FollowerCount</th>\n",
       "      <th>Following</th>\n",
       "      <th>FriendsCount</th>\n",
       "      <th>Language</th>\n",
       "      <th>Location</th>\n",
       "      <th>Source</th>\n",
       "      <th>Text</th>\n",
       "      <th>User</th>\n",
       "    </tr>\n",
       "  </thead>\n",
       "  <tbody>\n",
       "    <tr>\n",
       "      <th>0</th>\n",
       "      <td>Tue Sep 26 15:28:19 +0000 2017</td>\n",
       "      <td>709</td>\n",
       "      <td>None</td>\n",
       "      <td>1869</td>\n",
       "      <td>en</td>\n",
       "      <td>Yorkville, IL</td>\n",
       "      <td>&lt;a href=\"http://twitter.com/download/android\" ...</td>\n",
       "      <td>Anyone burning their #NFL gear in protest of p...</td>\n",
       "      <td>@KarateGomez</td>\n",
       "    </tr>\n",
       "    <tr>\n",
       "      <th>1</th>\n",
       "      <td>Tue Sep 26 15:28:19 +0000 2017</td>\n",
       "      <td>87</td>\n",
       "      <td>None</td>\n",
       "      <td>165</td>\n",
       "      <td>en</td>\n",
       "      <td>Florida, USA</td>\n",
       "      <td>&lt;a href=\"http://twitter.com/download/iphone\" r...</td>\n",
       "      <td>@POTUS #STFU about the NFL. Lets put a rule so...</td>\n",
       "      <td>@valeriembp_</td>\n",
       "    </tr>\n",
       "    <tr>\n",
       "      <th>2</th>\n",
       "      <td>Tue Sep 26 15:27:28 +0000 2017</td>\n",
       "      <td>686</td>\n",
       "      <td>None</td>\n",
       "      <td>17</td>\n",
       "      <td>en</td>\n",
       "      <td>United States</td>\n",
       "      <td>&lt;a href=\"https://ifttt.com\" rel=\"nofollow\"&gt;IFT...</td>\n",
       "      <td>Trump says he'll visit Puerto Rico next Tuesda...</td>\n",
       "      <td>@USGovReport</td>\n",
       "    </tr>\n",
       "    <tr>\n",
       "      <th>3</th>\n",
       "      <td>Tue Sep 26 15:27:28 +0000 2017</td>\n",
       "      <td>686</td>\n",
       "      <td>None</td>\n",
       "      <td>17</td>\n",
       "      <td>en</td>\n",
       "      <td>United States</td>\n",
       "      <td>&lt;a href=\"https://ifttt.com\" rel=\"nofollow\"&gt;IFT...</td>\n",
       "      <td>Tillerson to meet top Cuba envoy amid probe in...</td>\n",
       "      <td>@USGovReport</td>\n",
       "    </tr>\n",
       "    <tr>\n",
       "      <th>4</th>\n",
       "      <td>Tue Sep 26 15:27:29 +0000 2017</td>\n",
       "      <td>686</td>\n",
       "      <td>None</td>\n",
       "      <td>17</td>\n",
       "      <td>en</td>\n",
       "      <td>United States</td>\n",
       "      <td>&lt;a href=\"https://ifttt.com\" rel=\"nofollow\"&gt;IFT...</td>\n",
       "      <td>Interior chief says third of employees not loy...</td>\n",
       "      <td>@USGovReport</td>\n",
       "    </tr>\n",
       "  </tbody>\n",
       "</table>\n",
       "</div>"
      ],
      "text/plain": [
       "                       Created_at  FollowerCount Following  FriendsCount  \\\n",
       "0  Tue Sep 26 15:28:19 +0000 2017            709      None          1869   \n",
       "1  Tue Sep 26 15:28:19 +0000 2017             87      None           165   \n",
       "2  Tue Sep 26 15:27:28 +0000 2017            686      None            17   \n",
       "3  Tue Sep 26 15:27:28 +0000 2017            686      None            17   \n",
       "4  Tue Sep 26 15:27:29 +0000 2017            686      None            17   \n",
       "\n",
       "  Language       Location                                             Source  \\\n",
       "0       en  Yorkville, IL  <a href=\"http://twitter.com/download/android\" ...   \n",
       "1       en   Florida, USA  <a href=\"http://twitter.com/download/iphone\" r...   \n",
       "2       en  United States  <a href=\"https://ifttt.com\" rel=\"nofollow\">IFT...   \n",
       "3       en  United States  <a href=\"https://ifttt.com\" rel=\"nofollow\">IFT...   \n",
       "4       en  United States  <a href=\"https://ifttt.com\" rel=\"nofollow\">IFT...   \n",
       "\n",
       "                                                Text          User  \n",
       "0  Anyone burning their #NFL gear in protest of p...  @KarateGomez  \n",
       "1  @POTUS #STFU about the NFL. Lets put a rule so...  @valeriembp_  \n",
       "2  Trump says he'll visit Puerto Rico next Tuesda...  @USGovReport  \n",
       "3  Tillerson to meet top Cuba envoy amid probe in...  @USGovReport  \n",
       "4  Interior chief says third of employees not loy...  @USGovReport  "
      ]
     },
     "execution_count": 80,
     "metadata": {},
     "output_type": "execute_result"
    }
   ],
   "source": [
    "#---Load Results in a DataFrame---\n",
    "\n",
    "dataset = [{\"Created_at\": item[\"created_at\"],\n",
    "            \"Text\": item[\"text\"],\n",
    "            \"User\": \"@%s\" % item[\"user\"][\"screen_name\"],\n",
    "            \"Language\": item[\"user\"][\"lang\"],\n",
    "            \"FollowerCount\": item[\"user\"][\"followers_count\"],\n",
    "            \"Following\": item['user']['following'],\n",
    "            \"FriendsCount\": item['user']['friends_count'],\n",
    "            \"Location\": item[\"user\"][\"location\"],\n",
    "            \"Source\": item[\"source\"]\n",
    "           } for item in col.find()]\n",
    "\n",
    "dataset = pd.DataFrame(dataset)\n",
    "dataset.head()"
   ]
  },
  {
   "cell_type": "code",
   "execution_count": 66,
   "metadata": {},
   "outputs": [
    {
     "data": {
      "text/html": [
       "<div>\n",
       "<style>\n",
       "    .dataframe thead tr:only-child th {\n",
       "        text-align: right;\n",
       "    }\n",
       "\n",
       "    .dataframe thead th {\n",
       "        text-align: left;\n",
       "    }\n",
       "\n",
       "    .dataframe tbody tr th {\n",
       "        vertical-align: top;\n",
       "    }\n",
       "</style>\n",
       "<table border=\"1\" class=\"dataframe\">\n",
       "  <thead>\n",
       "    <tr style=\"text-align: right;\">\n",
       "      <th></th>\n",
       "      <th>Created_at</th>\n",
       "      <th>FollowerCount</th>\n",
       "      <th>Language</th>\n",
       "      <th>Location</th>\n",
       "      <th>Source</th>\n",
       "      <th>Text</th>\n",
       "      <th>User</th>\n",
       "      <th>Source_Name</th>\n",
       "    </tr>\n",
       "  </thead>\n",
       "  <tbody>\n",
       "    <tr>\n",
       "      <th>0</th>\n",
       "      <td>2017-09-26 15:28:19</td>\n",
       "      <td>709</td>\n",
       "      <td>en</td>\n",
       "      <td>Yorkville, IL</td>\n",
       "      <td>&lt;a href=\"http://twitter.com/download/android\" ...</td>\n",
       "      <td>Anyone burning their #NFL gear in protest of p...</td>\n",
       "      <td>@KarateGomez</td>\n",
       "      <td>Twitter for Android</td>\n",
       "    </tr>\n",
       "    <tr>\n",
       "      <th>1</th>\n",
       "      <td>2017-09-26 15:28:19</td>\n",
       "      <td>87</td>\n",
       "      <td>en</td>\n",
       "      <td>Florida, USA</td>\n",
       "      <td>&lt;a href=\"http://twitter.com/download/iphone\" r...</td>\n",
       "      <td>@POTUS #STFU about the NFL. Lets put a rule so...</td>\n",
       "      <td>@valeriembp_</td>\n",
       "      <td>Twitter for iPhone</td>\n",
       "    </tr>\n",
       "    <tr>\n",
       "      <th>2</th>\n",
       "      <td>2017-09-26 15:27:28</td>\n",
       "      <td>686</td>\n",
       "      <td>en</td>\n",
       "      <td>United States</td>\n",
       "      <td>&lt;a href=\"https://ifttt.com\" rel=\"nofollow\"&gt;IFT...</td>\n",
       "      <td>Trump says he'll visit Puerto Rico next Tuesda...</td>\n",
       "      <td>@USGovReport</td>\n",
       "      <td>IFTTT</td>\n",
       "    </tr>\n",
       "    <tr>\n",
       "      <th>3</th>\n",
       "      <td>2017-09-26 15:27:28</td>\n",
       "      <td>686</td>\n",
       "      <td>en</td>\n",
       "      <td>United States</td>\n",
       "      <td>&lt;a href=\"https://ifttt.com\" rel=\"nofollow\"&gt;IFT...</td>\n",
       "      <td>Tillerson to meet top Cuba envoy amid probe in...</td>\n",
       "      <td>@USGovReport</td>\n",
       "      <td>IFTTT</td>\n",
       "    </tr>\n",
       "    <tr>\n",
       "      <th>4</th>\n",
       "      <td>2017-09-26 15:27:29</td>\n",
       "      <td>686</td>\n",
       "      <td>en</td>\n",
       "      <td>United States</td>\n",
       "      <td>&lt;a href=\"https://ifttt.com\" rel=\"nofollow\"&gt;IFT...</td>\n",
       "      <td>Interior chief says third of employees not loy...</td>\n",
       "      <td>@USGovReport</td>\n",
       "      <td>IFTTT</td>\n",
       "    </tr>\n",
       "  </tbody>\n",
       "</table>\n",
       "</div>"
      ],
      "text/plain": [
       "           Created_at  FollowerCount Language       Location  \\\n",
       "0 2017-09-26 15:28:19            709       en  Yorkville, IL   \n",
       "1 2017-09-26 15:28:19             87       en   Florida, USA   \n",
       "2 2017-09-26 15:27:28            686       en  United States   \n",
       "3 2017-09-26 15:27:28            686       en  United States   \n",
       "4 2017-09-26 15:27:29            686       en  United States   \n",
       "\n",
       "                                              Source  \\\n",
       "0  <a href=\"http://twitter.com/download/android\" ...   \n",
       "1  <a href=\"http://twitter.com/download/iphone\" r...   \n",
       "2  <a href=\"https://ifttt.com\" rel=\"nofollow\">IFT...   \n",
       "3  <a href=\"https://ifttt.com\" rel=\"nofollow\">IFT...   \n",
       "4  <a href=\"https://ifttt.com\" rel=\"nofollow\">IFT...   \n",
       "\n",
       "                                                Text          User  \\\n",
       "0  Anyone burning their #NFL gear in protest of p...  @KarateGomez   \n",
       "1  @POTUS #STFU about the NFL. Lets put a rule so...  @valeriembp_   \n",
       "2  Trump says he'll visit Puerto Rico next Tuesda...  @USGovReport   \n",
       "3  Tillerson to meet top Cuba envoy amid probe in...  @USGovReport   \n",
       "4  Interior chief says third of employees not loy...  @USGovReport   \n",
       "\n",
       "           Source_Name  \n",
       "0  Twitter for Android  \n",
       "1   Twitter for iPhone  \n",
       "2                IFTTT  \n",
       "3                IFTTT  \n",
       "4                IFTTT  "
      ]
     },
     "execution_count": 66,
     "metadata": {},
     "output_type": "execute_result"
    }
   ],
   "source": [
    "# Preprocessing the Date (Created at)\n",
    "\n",
    "dataset['Created_at'] = pd.to_datetime(dataset.Created_at)\n",
    "dataset.head()"
   ]
  },
  {
   "cell_type": "code",
   "execution_count": 117,
   "metadata": {
    "collapsed": true
   },
   "outputs": [],
   "source": [
    "# Getting the Source_Name from the Source\n",
    "\n",
    "def get_source_name(x):\n",
    "    value = re.findall(pattern=\"<[^>]+>([^<]+)</a>\", string=x)\n",
    "    if len(value) > 0:\n",
    "        return value[0]\n",
    "    else:\n",
    "        return \"\"\n",
    "\n",
    "dataset['Source_Name'] = [get_source_name(x) for x in dataset['Source']]"
   ]
  },
  {
   "cell_type": "markdown",
   "metadata": {},
   "source": [
    "---"
   ]
  },
  {
   "cell_type": "markdown",
   "metadata": {},
   "source": [
    "## Word Count"
   ]
  },
  {
   "cell_type": "code",
   "execution_count": 49,
   "metadata": {},
   "outputs": [
    {
     "data": {
      "text/html": [
       "<div>\n",
       "<style>\n",
       "    .dataframe thead tr:only-child th {\n",
       "        text-align: right;\n",
       "    }\n",
       "\n",
       "    .dataframe thead th {\n",
       "        text-align: left;\n",
       "    }\n",
       "\n",
       "    .dataframe tbody tr th {\n",
       "        vertical-align: top;\n",
       "    }\n",
       "</style>\n",
       "<table border=\"1\" class=\"dataframe\">\n",
       "  <thead>\n",
       "    <tr style=\"text-align: right;\">\n",
       "      <th></th>\n",
       "      <th>word</th>\n",
       "      <th>count</th>\n",
       "    </tr>\n",
       "  </thead>\n",
       "  <tbody>\n",
       "    <tr>\n",
       "      <th>0</th>\n",
       "      <td>trump</td>\n",
       "      <td>104</td>\n",
       "    </tr>\n",
       "    <tr>\n",
       "      <th>1</th>\n",
       "      <td>https</td>\n",
       "      <td>73</td>\n",
       "    </tr>\n",
       "    <tr>\n",
       "      <th>2</th>\n",
       "      <td>co</td>\n",
       "      <td>68</td>\n",
       "    </tr>\n",
       "    <tr>\n",
       "      <th>3</th>\n",
       "      <td>rt</td>\n",
       "      <td>51</td>\n",
       "    </tr>\n",
       "    <tr>\n",
       "      <th>4</th>\n",
       "      <td>it</td>\n",
       "      <td>42</td>\n",
       "    </tr>\n",
       "    <tr>\n",
       "      <th>5</th>\n",
       "      <td>is</td>\n",
       "      <td>34</td>\n",
       "    </tr>\n",
       "    <tr>\n",
       "      <th>6</th>\n",
       "      <td>the</td>\n",
       "      <td>27</td>\n",
       "    </tr>\n",
       "    <tr>\n",
       "      <th>7</th>\n",
       "      <td>nfl</td>\n",
       "      <td>25</td>\n",
       "    </tr>\n",
       "  </tbody>\n",
       "</table>\n",
       "</div>"
      ],
      "text/plain": [
       "    word  count\n",
       "0  trump    104\n",
       "1  https     73\n",
       "2     co     68\n",
       "3     rt     51\n",
       "4     it     42\n",
       "5     is     34\n",
       "6    the     27\n",
       "7    nfl     25"
      ]
     },
     "execution_count": 49,
     "metadata": {},
     "output_type": "execute_result"
    }
   ],
   "source": [
    "#---Checking the highest used words---\n",
    "\n",
    "cv = CountVectorizer()\n",
    "count_matrix = cv.fit_transform(dataset.Text)\n",
    "\n",
    "word_count = pd.DataFrame(cv.get_feature_names(), columns=[\"word\"])\n",
    "word_count[\"count\"] = count_matrix.sum(axis=0).tolist()[0]\n",
    "word_count = word_count.sort_values(\"count\", ascending=False).reset_index(drop=True)\n",
    "word_count[:50].head(8)"
   ]
  },
  {
   "cell_type": "markdown",
   "metadata": {
    "collapsed": true
   },
   "source": [
    "## Word Cloud"
   ]
  },
  {
   "cell_type": "code",
   "execution_count": 53,
   "metadata": {},
   "outputs": [
    {
     "data": {
      "image/png": "[encoded data removed]",
      "text/plain": [
       "<PIL.Image.Image image mode=RGB size=400x200 at 0x92B4A30>"
      ]
     },
     "execution_count": 53,
     "metadata": {},
     "output_type": "execute_result"
    }
   ],
   "source": [
    "from wordcloud import WordCloud\n",
    "wc = WordCloud(background_color=\"white\", max_words=200)\n",
    "ps = PorterStemmer()\n",
    "\n",
    "words = [ps.stem(word) for word in word_count['word'] if not word in set(stopwords.words('english'))]\n",
    "words = str(words)\n",
    "wordcloud.to_image()"
   ]
  },
  {
   "cell_type": "markdown",
   "metadata": {
    "collapsed": true
   },
   "source": [
    "---"
   ]
  },
  {
   "cell_type": "markdown",
   "metadata": {},
   "source": [
    "## Top 5 Sources for Tweets"
   ]
  },
  {
   "cell_type": "code",
   "execution_count": 118,
   "metadata": {
    "scrolled": false
   },
   "outputs": [
    {
     "data": {
      "image/png": "[encoded data removed]",
      "text/plain": [
       "<matplotlib.figure.Figure at 0xb4d69f0>"
      ]
     },
     "metadata": {},
     "output_type": "display_data"
    }
   ],
   "source": [
    "y = dataset.Source_Name.value_counts()[:5]\n",
    "x = dataset.Source_Name.value_counts().index\n",
    "\n",
    "plt.bar(list(range(len(y))),y)\n",
    "plt.xticks(list(range(len(y))),x)\n",
    "plt.xlabel('Sources')\n",
    "plt.ylabel('Count')\n",
    "plt.title('Frequency Distribution of Sources')\n",
    "plt.show()"
   ]
  },
  {
   "cell_type": "markdown",
   "metadata": {},
   "source": [
    "---"
   ]
  },
  {
   "cell_type": "markdown",
   "metadata": {},
   "source": [
    "## Top 5 Languages"
   ]
  },
  {
   "cell_type": "code",
   "execution_count": 119,
   "metadata": {
    "scrolled": true
   },
   "outputs": [
    {
     "data": {
      "image/png": "[encoded data removed]",
      "text/plain": [
       "<matplotlib.figure.Figure at 0xb480b30>"
      ]
     },
     "metadata": {},
     "output_type": "display_data"
    }
   ],
   "source": [
    "y = dataset.Language.value_counts()[:5]\n",
    "x = dataset.Language.value_counts().index\n",
    "\n",
    "plt.bar(list(range(len(y))),y)\n",
    "plt.xticks(list(range(len(y))),x)\n",
    "plt.xlabel('Language')\n",
    "plt.ylabel('Count')\n",
    "plt.title('Frequency Distribution of Languages')\n",
    "plt.show()"
   ]
  },
  {
   "cell_type": "markdown",
   "metadata": {},
   "source": [
    "---"
   ]
  },
  {
   "cell_type": "markdown",
   "metadata": {},
   "source": [
    "## Top 5 Countries with Maximum Tweets"
   ]
  },
  {
   "cell_type": "code",
   "execution_count": 70,
   "metadata": {},
   "outputs": [
    {
     "data": {
      "image/png": "[encoded data removed]",
      "text/plain": [
       "<matplotlib.figure.Figure at 0xa37e9d0>"
      ]
     },
     "metadata": {},
     "output_type": "display_data"
    }
   ],
   "source": [
    "y = dataset.Location.value_counts()[:5]\n",
    "x = dataset.Location.value_counts().index\n",
    "\n",
    "plt.bar(list(range(len(y))),y)\n",
    "plt.xticks(list(range(len(y))),x)\n",
    "plt.xlabel('Location')\n",
    "plt.ylabel('Count')\n",
    "plt.title('Frequency Distribution of Location')\n",
    "plt.show()"
   ]
  },
  {
   "cell_type": "markdown",
   "metadata": {},
   "source": [
    "---"
   ]
  },
  {
   "cell_type": "markdown",
   "metadata": {},
   "source": [
    "## User's Follower Count"
   ]
  },
  {
   "cell_type": "code",
   "execution_count": 93,
   "metadata": {},
   "outputs": [
    {
     "data": {
      "text/plain": [
       "<matplotlib.text.Text at 0xb3241b0>"
      ]
     },
     "execution_count": 93,
     "metadata": {},
     "output_type": "execute_result"
    },
    {
     "data": {
      "image/png": "[encoded data removed]",
      "text/plain": [
       "<matplotlib.figure.Figure at 0xb3012b0>"
      ]
     },
     "metadata": {},
     "output_type": "display_data"
    }
   ],
   "source": [
    "sns.distplot(dataset['FollowerCount'], bins=10)\n",
    "plt.title('Distribution Plot')"
   ]
  },
  {
   "cell_type": "code",
   "execution_count": 92,
   "metadata": {},
   "outputs": [
    {
     "data": {
      "text/plain": [
       "<matplotlib.text.Text at 0xa8daf30>"
      ]
     },
     "execution_count": 92,
     "metadata": {},
     "output_type": "execute_result"
    },
    {
     "data": {
      "image/png": "[encoded data removed]",
      "text/plain": [
       "<matplotlib.figure.Figure at 0xaee42d0>"
      ]
     },
     "metadata": {},
     "output_type": "display_data"
    }
   ],
   "source": [
    "sns.rugplot(dataset['FollowerCount'])\n",
    "plt.title(\"Rug Plot\")"
   ]
  },
  {
   "cell_type": "markdown",
   "metadata": {},
   "source": [
    "---"
   ]
  },
  {
   "cell_type": "markdown",
   "metadata": {},
   "source": [
    "## Friends Count vs Followers Count"
   ]
  },
  {
   "cell_type": "code",
   "execution_count": 86,
   "metadata": {},
   "outputs": [
    {
     "data": {
      "image/png": "[encoded data removed]",
      "text/plain": [
       "<matplotlib.figure.Figure at 0xada6ff0>"
      ]
     },
     "metadata": {},
     "output_type": "display_data"
    }
   ],
   "source": [
    "x = dataset.FollowerCount\n",
    "y = dataset.FriendsCount\n",
    "plt.scatter(x,y)\n",
    "plt.xlabel('FollowerCount')\n",
    "plt.ylabel('FriendsCount')\n",
    "plt.title(\"Followers Count vs Friends Count\")\n",
    "plt.show()"
   ]
  },
  {
   "cell_type": "markdown",
   "metadata": {},
   "source": [
    "---"
   ]
  },
  {
   "cell_type": "code",
   "execution_count": 94,
   "metadata": {
    "scrolled": true
   },
   "outputs": [
    {
     "data": {
      "text/plain": [
       "@USGovReport        6\n",
       "@GrasslandDesign    3\n",
       "@PoliKartoons       2\n",
       "@TrumpsTrucker      1\n",
       "@anitach2002        1\n",
       "@2_twicks           1\n",
       "@C_W_UK             1\n",
       "@qavhasvdhsyh307    1\n",
       "@skywaydirt         1\n",
       "@amthouin           1\n",
       "@bfzpeuqcnjqz241    1\n",
       "@kchrystle          1\n",
       "@miniestmini        1\n",
       "@BeachWitchMagic    1\n",
       "@johnlundin         1\n",
       "@mykkool            1\n",
       "@mariamcbean        1\n",
       "@MyrlKimberely      1\n",
       "@GregWhiz           1\n",
       "@BillieHollywood    1\n",
       "@d_key0207          1\n",
       "@susan_donnally     1\n",
       "@minouska_kounak    1\n",
       "@Dougie_Ice_Back    1\n",
       "@BraxtonBee         1\n",
       "@Kjar1386           1\n",
       "@tammi_song         1\n",
       "@watchjbourne       1\n",
       "@jakehammer59       1\n",
       "@Write_Sense        1\n",
       "                   ..\n",
       "@TheCheesyChin      1\n",
       "@AbleMarksman       1\n",
       "@CaptainAlex8       1\n",
       "@stringbeans15      1\n",
       "@KarateGomez        1\n",
       "@RobertLPhillip7    1\n",
       "@IlonaBilli         1\n",
       "@MissButter         1\n",
       "@oidecnitsua        1\n",
       "@CarolynHaley16     1\n",
       "@nakanotekeko       1\n",
       "@SusanS96965737     1\n",
       "@valeriembp_        1\n",
       "@maguilar63         1\n",
       "@sarahyuro          1\n",
       "@artemis_sol        1\n",
       "@cnspfjcmhwkq517    1\n",
       "@AlainIrakiza       1\n",
       "@Hexenomi           1\n",
       "@69News             1\n",
       "@pjfsqyqxbtdub21    1\n",
       "@ScoopRocket        1\n",
       "@vpardi             1\n",
       "@OpTheResistance    1\n",
       "@TerenceSpeaks      1\n",
       "@CrazyNate72        1\n",
       "@CherylC2017        1\n",
       "@RobertLHixon       1\n",
       "@nocomp             1\n",
       "@NRC_MiddleEast     1\n",
       "Name: User, Length: 92, dtype: int64"
      ]
     },
     "execution_count": 94,
     "metadata": {},
     "output_type": "execute_result"
    }
   ],
   "source": [
    "# Distinct Number of Users\n",
    "\n",
    "dataset.User.value_counts()"
   ]
  },
  {
   "cell_type": "markdown",
   "metadata": {},
   "source": [
    "---"
   ]
  },
  {
   "cell_type": "code",
   "execution_count": 95,
   "metadata": {
    "collapsed": true
   },
   "outputs": [],
   "source": [
    "def calc_polarity(i):\n",
    "    tweet = TextBlob(dataset['Text'][i])\n",
    "    return tweet.polarity\n",
    "\n",
    "dataset['Sent_Polarity'] = [calc_polarity(i) for i in range(len(dataset))]"
   ]
  },
  {
   "cell_type": "code",
   "execution_count": 96,
   "metadata": {
    "collapsed": true
   },
   "outputs": [],
   "source": [
    "def calc_sub(i):\n",
    "    tweet = TextBlob(dataset['Text'][i])\n",
    "    return tweet.subjectivity\n",
    "\n",
    "dataset['Sent_Subjectivity'] = [calc_sub(i) for i in range(len(dataset))]"
   ]
  },
  {
   "cell_type": "code",
   "execution_count": 97,
   "metadata": {
    "scrolled": true
   },
   "outputs": [
    {
     "data": {
      "text/html": [
       "<div>\n",
       "<style>\n",
       "    .dataframe thead tr:only-child th {\n",
       "        text-align: right;\n",
       "    }\n",
       "\n",
       "    .dataframe thead th {\n",
       "        text-align: left;\n",
       "    }\n",
       "\n",
       "    .dataframe tbody tr th {\n",
       "        vertical-align: top;\n",
       "    }\n",
       "</style>\n",
       "<table border=\"1\" class=\"dataframe\">\n",
       "  <thead>\n",
       "    <tr style=\"text-align: right;\">\n",
       "      <th></th>\n",
       "      <th>Created_at</th>\n",
       "      <th>FollowerCount</th>\n",
       "      <th>Following</th>\n",
       "      <th>FriendsCount</th>\n",
       "      <th>Language</th>\n",
       "      <th>Location</th>\n",
       "      <th>Source</th>\n",
       "      <th>Text</th>\n",
       "      <th>User</th>\n",
       "      <th>Sent_Polarity</th>\n",
       "      <th>Sent_Subjectivity</th>\n",
       "    </tr>\n",
       "  </thead>\n",
       "  <tbody>\n",
       "    <tr>\n",
       "      <th>0</th>\n",
       "      <td>Tue Sep 26 15:28:19 +0000 2017</td>\n",
       "      <td>709</td>\n",
       "      <td>None</td>\n",
       "      <td>1869</td>\n",
       "      <td>en</td>\n",
       "      <td>Yorkville, IL</td>\n",
       "      <td>&lt;a href=\"http://twitter.com/download/android\" ...</td>\n",
       "      <td>Anyone burning their #NFL gear in protest of p...</td>\n",
       "      <td>@KarateGomez</td>\n",
       "      <td>-0.100000</td>\n",
       "      <td>0.191667</td>\n",
       "    </tr>\n",
       "    <tr>\n",
       "      <th>1</th>\n",
       "      <td>Tue Sep 26 15:28:19 +0000 2017</td>\n",
       "      <td>87</td>\n",
       "      <td>None</td>\n",
       "      <td>165</td>\n",
       "      <td>en</td>\n",
       "      <td>Florida, USA</td>\n",
       "      <td>&lt;a href=\"http://twitter.com/download/iphone\" r...</td>\n",
       "      <td>@POTUS #STFU about the NFL. Lets put a rule so...</td>\n",
       "      <td>@valeriembp_</td>\n",
       "      <td>-0.287500</td>\n",
       "      <td>0.650000</td>\n",
       "    </tr>\n",
       "    <tr>\n",
       "      <th>2</th>\n",
       "      <td>Tue Sep 26 15:27:28 +0000 2017</td>\n",
       "      <td>686</td>\n",
       "      <td>None</td>\n",
       "      <td>17</td>\n",
       "      <td>en</td>\n",
       "      <td>United States</td>\n",
       "      <td>&lt;a href=\"https://ifttt.com\" rel=\"nofollow\"&gt;IFT...</td>\n",
       "      <td>Trump says he'll visit Puerto Rico next Tuesda...</td>\n",
       "      <td>@USGovReport</td>\n",
       "      <td>0.000000</td>\n",
       "      <td>0.000000</td>\n",
       "    </tr>\n",
       "    <tr>\n",
       "      <th>3</th>\n",
       "      <td>Tue Sep 26 15:27:28 +0000 2017</td>\n",
       "      <td>686</td>\n",
       "      <td>None</td>\n",
       "      <td>17</td>\n",
       "      <td>en</td>\n",
       "      <td>United States</td>\n",
       "      <td>&lt;a href=\"https://ifttt.com\" rel=\"nofollow\"&gt;IFT...</td>\n",
       "      <td>Tillerson to meet top Cuba envoy amid probe in...</td>\n",
       "      <td>@USGovReport</td>\n",
       "      <td>0.500000</td>\n",
       "      <td>0.500000</td>\n",
       "    </tr>\n",
       "    <tr>\n",
       "      <th>4</th>\n",
       "      <td>Tue Sep 26 15:27:29 +0000 2017</td>\n",
       "      <td>686</td>\n",
       "      <td>None</td>\n",
       "      <td>17</td>\n",
       "      <td>en</td>\n",
       "      <td>United States</td>\n",
       "      <td>&lt;a href=\"https://ifttt.com\" rel=\"nofollow\"&gt;IFT...</td>\n",
       "      <td>Interior chief says third of employees not loy...</td>\n",
       "      <td>@USGovReport</td>\n",
       "      <td>-0.083333</td>\n",
       "      <td>0.416667</td>\n",
       "    </tr>\n",
       "  </tbody>\n",
       "</table>\n",
       "</div>"
      ],
      "text/plain": [
       "                       Created_at  FollowerCount Following  FriendsCount  \\\n",
       "0  Tue Sep 26 15:28:19 +0000 2017            709      None          1869   \n",
       "1  Tue Sep 26 15:28:19 +0000 2017             87      None           165   \n",
       "2  Tue Sep 26 15:27:28 +0000 2017            686      None            17   \n",
       "3  Tue Sep 26 15:27:28 +0000 2017            686      None            17   \n",
       "4  Tue Sep 26 15:27:29 +0000 2017            686      None            17   \n",
       "\n",
       "  Language       Location                                             Source  \\\n",
       "0       en  Yorkville, IL  <a href=\"http://twitter.com/download/android\" ...   \n",
       "1       en   Florida, USA  <a href=\"http://twitter.com/download/iphone\" r...   \n",
       "2       en  United States  <a href=\"https://ifttt.com\" rel=\"nofollow\">IFT...   \n",
       "3       en  United States  <a href=\"https://ifttt.com\" rel=\"nofollow\">IFT...   \n",
       "4       en  United States  <a href=\"https://ifttt.com\" rel=\"nofollow\">IFT...   \n",
       "\n",
       "                                                Text          User  \\\n",
       "0  Anyone burning their #NFL gear in protest of p...  @KarateGomez   \n",
       "1  @POTUS #STFU about the NFL. Lets put a rule so...  @valeriembp_   \n",
       "2  Trump says he'll visit Puerto Rico next Tuesda...  @USGovReport   \n",
       "3  Tillerson to meet top Cuba envoy amid probe in...  @USGovReport   \n",
       "4  Interior chief says third of employees not loy...  @USGovReport   \n",
       "\n",
       "   Sent_Polarity  Sent_Subjectivity  \n",
       "0      -0.100000           0.191667  \n",
       "1      -0.287500           0.650000  \n",
       "2       0.000000           0.000000  \n",
       "3       0.500000           0.500000  \n",
       "4      -0.083333           0.416667  "
      ]
     },
     "execution_count": 97,
     "metadata": {},
     "output_type": "execute_result"
    }
   ],
   "source": [
    "dataset.head()"
   ]
  },
  {
   "cell_type": "code",
   "execution_count": 107,
   "metadata": {
    "collapsed": true,
    "scrolled": true
   },
   "outputs": [],
   "source": [
    "def get_sentiment(i):\n",
    "    if dataset['Sent_Polarity'][i] > 0:\n",
    "        return 1\n",
    "    elif dataset['Sent_Polarity'][i] < 0:\n",
    "        return -1\n",
    "    else:\n",
    "        return 0\n",
    "\n",
    "dataset['Sentiment'] = [get_sentiment(i) for i in range(len(dataset))]"
   ]
  },
  {
   "cell_type": "code",
   "execution_count": 108,
   "metadata": {
    "scrolled": true
   },
   "outputs": [
    {
     "data": {
      "text/html": [
       "<div>\n",
       "<style>\n",
       "    .dataframe thead tr:only-child th {\n",
       "        text-align: right;\n",
       "    }\n",
       "\n",
       "    .dataframe thead th {\n",
       "        text-align: left;\n",
       "    }\n",
       "\n",
       "    .dataframe tbody tr th {\n",
       "        vertical-align: top;\n",
       "    }\n",
       "</style>\n",
       "<table border=\"1\" class=\"dataframe\">\n",
       "  <thead>\n",
       "    <tr style=\"text-align: right;\">\n",
       "      <th></th>\n",
       "      <th>Created_at</th>\n",
       "      <th>FollowerCount</th>\n",
       "      <th>Following</th>\n",
       "      <th>FriendsCount</th>\n",
       "      <th>Language</th>\n",
       "      <th>Location</th>\n",
       "      <th>Source</th>\n",
       "      <th>Text</th>\n",
       "      <th>User</th>\n",
       "      <th>Sent_Polarity</th>\n",
       "      <th>Sent_Subjectivity</th>\n",
       "      <th>Sentiment</th>\n",
       "    </tr>\n",
       "  </thead>\n",
       "  <tbody>\n",
       "    <tr>\n",
       "      <th>0</th>\n",
       "      <td>Tue Sep 26 15:28:19 +0000 2017</td>\n",
       "      <td>709</td>\n",
       "      <td>None</td>\n",
       "      <td>1869</td>\n",
       "      <td>en</td>\n",
       "      <td>Yorkville, IL</td>\n",
       "      <td>&lt;a href=\"http://twitter.com/download/android\" ...</td>\n",
       "      <td>Anyone burning their #NFL gear in protest of p...</td>\n",
       "      <td>@KarateGomez</td>\n",
       "      <td>-0.100000</td>\n",
       "      <td>0.191667</td>\n",
       "      <td>-1</td>\n",
       "    </tr>\n",
       "    <tr>\n",
       "      <th>1</th>\n",
       "      <td>Tue Sep 26 15:28:19 +0000 2017</td>\n",
       "      <td>87</td>\n",
       "      <td>None</td>\n",
       "      <td>165</td>\n",
       "      <td>en</td>\n",
       "      <td>Florida, USA</td>\n",
       "      <td>&lt;a href=\"http://twitter.com/download/iphone\" r...</td>\n",
       "      <td>@POTUS #STFU about the NFL. Lets put a rule so...</td>\n",
       "      <td>@valeriembp_</td>\n",
       "      <td>-0.287500</td>\n",
       "      <td>0.650000</td>\n",
       "      <td>-1</td>\n",
       "    </tr>\n",
       "    <tr>\n",
       "      <th>2</th>\n",
       "      <td>Tue Sep 26 15:27:28 +0000 2017</td>\n",
       "      <td>686</td>\n",
       "      <td>None</td>\n",
       "      <td>17</td>\n",
       "      <td>en</td>\n",
       "      <td>United States</td>\n",
       "      <td>&lt;a href=\"https://ifttt.com\" rel=\"nofollow\"&gt;IFT...</td>\n",
       "      <td>Trump says he'll visit Puerto Rico next Tuesda...</td>\n",
       "      <td>@USGovReport</td>\n",
       "      <td>0.000000</td>\n",
       "      <td>0.000000</td>\n",
       "      <td>0</td>\n",
       "    </tr>\n",
       "    <tr>\n",
       "      <th>3</th>\n",
       "      <td>Tue Sep 26 15:27:28 +0000 2017</td>\n",
       "      <td>686</td>\n",
       "      <td>None</td>\n",
       "      <td>17</td>\n",
       "      <td>en</td>\n",
       "      <td>United States</td>\n",
       "      <td>&lt;a href=\"https://ifttt.com\" rel=\"nofollow\"&gt;IFT...</td>\n",
       "      <td>Tillerson to meet top Cuba envoy amid probe in...</td>\n",
       "      <td>@USGovReport</td>\n",
       "      <td>0.500000</td>\n",
       "      <td>0.500000</td>\n",
       "      <td>1</td>\n",
       "    </tr>\n",
       "    <tr>\n",
       "      <th>4</th>\n",
       "      <td>Tue Sep 26 15:27:29 +0000 2017</td>\n",
       "      <td>686</td>\n",
       "      <td>None</td>\n",
       "      <td>17</td>\n",
       "      <td>en</td>\n",
       "      <td>United States</td>\n",
       "      <td>&lt;a href=\"https://ifttt.com\" rel=\"nofollow\"&gt;IFT...</td>\n",
       "      <td>Interior chief says third of employees not loy...</td>\n",
       "      <td>@USGovReport</td>\n",
       "      <td>-0.083333</td>\n",
       "      <td>0.416667</td>\n",
       "      <td>-1</td>\n",
       "    </tr>\n",
       "  </tbody>\n",
       "</table>\n",
       "</div>"
      ],
      "text/plain": [
       "                       Created_at  FollowerCount Following  FriendsCount  \\\n",
       "0  Tue Sep 26 15:28:19 +0000 2017            709      None          1869   \n",
       "1  Tue Sep 26 15:28:19 +0000 2017             87      None           165   \n",
       "2  Tue Sep 26 15:27:28 +0000 2017            686      None            17   \n",
       "3  Tue Sep 26 15:27:28 +0000 2017            686      None            17   \n",
       "4  Tue Sep 26 15:27:29 +0000 2017            686      None            17   \n",
       "\n",
       "  Language       Location                                             Source  \\\n",
       "0       en  Yorkville, IL  <a href=\"http://twitter.com/download/android\" ...   \n",
       "1       en   Florida, USA  <a href=\"http://twitter.com/download/iphone\" r...   \n",
       "2       en  United States  <a href=\"https://ifttt.com\" rel=\"nofollow\">IFT...   \n",
       "3       en  United States  <a href=\"https://ifttt.com\" rel=\"nofollow\">IFT...   \n",
       "4       en  United States  <a href=\"https://ifttt.com\" rel=\"nofollow\">IFT...   \n",
       "\n",
       "                                                Text          User  \\\n",
       "0  Anyone burning their #NFL gear in protest of p...  @KarateGomez   \n",
       "1  @POTUS #STFU about the NFL. Lets put a rule so...  @valeriembp_   \n",
       "2  Trump says he'll visit Puerto Rico next Tuesda...  @USGovReport   \n",
       "3  Tillerson to meet top Cuba envoy amid probe in...  @USGovReport   \n",
       "4  Interior chief says third of employees not loy...  @USGovReport   \n",
       "\n",
       "   Sent_Polarity  Sent_Subjectivity  Sentiment  \n",
       "0      -0.100000           0.191667         -1  \n",
       "1      -0.287500           0.650000         -1  \n",
       "2       0.000000           0.000000          0  \n",
       "3       0.500000           0.500000          1  \n",
       "4      -0.083333           0.416667         -1  "
      ]
     },
     "execution_count": 108,
     "metadata": {},
     "output_type": "execute_result"
    }
   ],
   "source": [
    "dataset.head()"
   ]
  },
  {
   "cell_type": "markdown",
   "metadata": {},
   "source": [
    "---"
   ]
  },
  {
   "cell_type": "markdown",
   "metadata": {},
   "source": [
    "## Pie Chart for Polarity"
   ]
  },
  {
   "cell_type": "code",
   "execution_count": 121,
   "metadata": {
    "collapsed": true
   },
   "outputs": [],
   "source": [
    "slices = dataset.Sentiment.value_counts()\n",
    "activities = ['Neutral', 'Positive', 'Negative']"
   ]
  },
  {
   "cell_type": "code",
   "execution_count": 131,
   "metadata": {
    "scrolled": false
   },
   "outputs": [
    {
     "data": {
      "image/png": "[encoded data removed]",
      "text/plain": [
       "<matplotlib.figure.Figure at 0xb2a65f0>"
      ]
     },
     "metadata": {},
     "output_type": "display_data"
    }
   ],
   "source": [
    "plt.pie(slices,labels=activities, colors=['#FF5733', '#33FF49', \"#33A5FF\"], shadow=True, explode=(0,0.1,0), startangle=90)\n",
    "plt.show()"
   ]
  },
  {
   "cell_type": "code",
   "execution_count": null,
   "metadata": {
    "collapsed": true
   },
   "outputs": [],
   "source": [
    "###-----------------------THE END-----------------------------###"
   ]
  },
  {
   "cell_type": "markdown",
   "metadata": {},
   "source": [
    "---"
   ]
  }
 ],
 "metadata": {
  "kernelspec": {
   "display_name": "Python 3",
   "language": "python",
   "name": "python3"
  },
  "language_info": {
   "codemirror_mode": {
    "name": "ipython",
    "version": 3
   },
   "file_extension": ".py",
   "mimetype": "text/x-python",
   "name": "python",
   "nbconvert_exporter": "python",
   "pygments_lexer": "ipython3",
   "version": "3.6.2"
  }
 },
 "nbformat": 4,
 "nbformat_minor": 2
}
